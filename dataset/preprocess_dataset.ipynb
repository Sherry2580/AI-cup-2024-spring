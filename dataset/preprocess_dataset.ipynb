{
 "cells": [
  {
   "cell_type": "markdown",
   "metadata": {},
   "source": [
    "# Data Preprocess for the Dataset\n",
    "\n",
    "In this session, we will do the following things:\n",
    "1. Download official dataset\n",
    "2. Prepare training and testing data (Road_River Altogether)\n",
    "3. Delete the data that are low quality\n",
    "4. Prepare 2 domain-specific datasets (Road and River )\n",
    "5. Copy the data to the model directory"
   ]
  },
  {
   "cell_type": "code",
   "execution_count": null,
   "metadata": {},
   "outputs": [],
   "source": [
    "import os\n",
    "import shutil"
   ]
  },
  {
   "cell_type": "code",
   "execution_count": null,
   "metadata": {},
   "outputs": [],
   "source": [
    "# check if `pytorch-CycleGAN-and-pix2pix` is already cloned\n",
    "if not os.path.exists('../pytorch-CycleGAN-and-pix2pix'):\n",
    "    os.chdir('../')\n",
    "    !git clone https://github.com/junyanz/pytorch-CycleGAN-and-pix2pix\n",
    "    os.chdir('./dataset')\t# change directory back to `./dataset`\n",
    "else:\n",
    "    print('pytorch-CycleGAN-and-pix2pix is already cloned.')"
   ]
  },
  {
   "cell_type": "code",
   "execution_count": null,
   "metadata": {},
   "outputs": [],
   "source": [
    "!pwd"
   ]
  },
  {
   "cell_type": "markdown",
   "metadata": {},
   "source": [
    "# 1. Download Dataset\n",
    "The script will download the dataset if you haven't downloaded it yet."
   ]
  },
  {
   "cell_type": "code",
   "execution_count": null,
   "metadata": {},
   "outputs": [],
   "source": [
    "!bash ../scripts/download_official_dataset.sh"
   ]
  },
  {
   "cell_type": "markdown",
   "metadata": {},
   "source": [
    "# 2. Prepare Training and Testing Data\n",
    "\n",
    "we will cover the following steps: (Road River Altogether)\n",
    "- Prepare training data\n",
    "- Prepare public and private testing data"
   ]
  },
  {
   "cell_type": "markdown",
   "metadata": {},
   "source": [
    "## Prepare Training Data"
   ]
  },
  {
   "cell_type": "markdown",
   "metadata": {},
   "source": [
    "The Training dataset contains two subfolder:\n",
    "- label_img: contains the draft images\n",
    "- img: contains the corresponding ground truth images"
   ]
  },
  {
   "cell_type": "code",
   "execution_count": null,
   "metadata": {},
   "outputs": [],
   "source": [
    "import zipfile\n",
    "\n",
    "train_dataset_zip = '34_Competition 1_Training dataset.zip'\n",
    "\n",
    "# unzip the train_dataset_zip\n",
    "with zipfile.ZipFile(train_dataset_zip, 'r') as zip_ref:\n",
    "    zip_ref.extractall()"
   ]
  },
  {
   "cell_type": "code",
   "execution_count": null,
   "metadata": {},
   "outputs": [],
   "source": [
    "train_dir = 'training_dataset'\n",
    "\n",
    "# rename the extracted folder\n",
    "os.rename('Training dataset', train_dir)"
   ]
  },
  {
   "cell_type": "code",
   "execution_count": null,
   "metadata": {},
   "outputs": [],
   "source": [
    "train_dir = './training_dataset'\n",
    "print(os.listdir(train_dir))"
   ]
  },
  {
   "cell_type": "markdown",
   "metadata": {},
   "source": [
    "### Rename the subfolders as trainA and trainB\n",
    "mapping the folder name to the model input:\n",
    "- `training_dataset/label_img` -> `training_dataset/trainA`\n",
    "- `training_dataset/img` -> `training_dataset/trainB`"
   ]
  },
  {
   "cell_type": "code",
   "execution_count": null,
   "metadata": {},
   "outputs": [],
   "source": [
    "# rename the subfolders\n",
    "os.rename(train_dir + '/label_img', train_dir + '/trainA')\n",
    "os.rename(train_dir + '/img', train_dir + '/trainB')"
   ]
  },
  {
   "cell_type": "markdown",
   "metadata": {},
   "source": [
    "## Prepare Public and Private Testing Data"
   ]
  },
  {
   "cell_type": "markdown",
   "metadata": {},
   "source": [
    "1. The extracted zip file only contains `label_img` folder\n",
    "2. so we need to create the parent folder `testing_dataset`\n",
    "3. and move the `label_img` folder to `testing_dataset`"
   ]
  },
  {
   "cell_type": "code",
   "execution_count": null,
   "metadata": {},
   "outputs": [],
   "source": [
    "import zipfile\n",
    "\n",
    "public_testing_dataset_zip = '34_Competition 1_public testing dataset.zip'\n",
    "private_testing_dataset_zip = '34_Competition 1_Private Test Dataset.zip'\n",
    "test_dir = 'testing_dataset'\n",
    "\n",
    "# unzip the public testing dataset\n",
    "with zipfile.ZipFile(public_testing_dataset_zip, 'r') as zip_ref:\n",
    "\tzip_ref.extractall(test_dir)\n",
    "\n",
    "# unzip the private testing dataset\n",
    "with zipfile.ZipFile(private_testing_dataset_zip, 'r') as zip_ref:\n",
    "    zip_ref.extractall(test_dir)"
   ]
  },
  {
   "cell_type": "code",
   "execution_count": null,
   "metadata": {},
   "outputs": [],
   "source": [
    "test_dir = 'testing_dataset'\n",
    "print(os.listdir(test_dir))"
   ]
  },
  {
   "cell_type": "markdown",
   "metadata": {},
   "source": [
    "### Rename the subfolder as testA\n",
    "\n",
    "since the ground truth images are not provided, we just need to rename the folder `label_img` as `testA`\n",
    "\n",
    "mapping the folder name to the model input:\n",
    "- `testing_dataset/label_img` -> `testing_dataset/testA`"
   ]
  },
  {
   "cell_type": "code",
   "execution_count": null,
   "metadata": {},
   "outputs": [],
   "source": [
    "os.rename(test_dir + '/label_img', test_dir + '/testA')\n",
    "print(os.listdir(test_dir))"
   ]
  },
  {
   "cell_type": "markdown",
   "metadata": {},
   "source": [
    "# 3. Data Filter (Optional)\n",
    "\n",
    "At this session, we filter the low-quality images in training data.\n",
    "\n",
    "We have provided a text file that contains the list of low-quality images' name."
   ]
  },
  {
   "cell_type": "code",
   "execution_count": null,
   "metadata": {},
   "outputs": [],
   "source": [
    "file_to_delete = []\n",
    "with open('file_to_delete.txt', 'r') as file:\n",
    "    # Loop through reach line in the file\n",
    "    for line in file:\n",
    "        if '#' in line:\n",
    "            continue\n",
    "        # Remove any trailing whitespace (like newlines)\n",
    "        line = line.strip()\n",
    "        file_to_delete.append(line)\n",
    "# print(file_to_delete)"
   ]
  },
  {
   "cell_type": "code",
   "execution_count": null,
   "metadata": {},
   "outputs": [],
   "source": [
    "# Original file size\n",
    "print('Original file size')\n",
    "for subfolder in os.listdir(train_dir):\n",
    "    print(f\"{subfolder} size: {len(os.listdir(os.path.join(train_dir, subfolder)))}\")\n",
    "\n",
    "\n",
    "# Filter\n",
    "for subfolder in os.listdir(train_dir):\n",
    "    for image_name in os.listdir(os.path.join(train_dir, subfolder)):\n",
    "        prefix_name = image_name.split('.')[0]\n",
    "        if prefix_name in file_to_delete:\n",
    "            os.remove(os.path.join(train_dir, subfolder, image_name))\n",
    "            \n",
    "# New file size\n",
    "print('After filtering')\n",
    "for subfolder in os.listdir(train_dir):\n",
    "    print(f\"{subfolder} size: {len(os.listdir(os.path.join(train_dir, subfolder)))}\")"
   ]
  },
  {
   "cell_type": "markdown",
   "metadata": {},
   "source": [
    "# 4. Prepare 2 domain-specific datasets (Road and River)"
   ]
  },
  {
   "cell_type": "markdown",
   "metadata": {},
   "source": [
    "## Extract the Images from Raw Training Data\n",
    "Each `trainA` and `trainB` subfolders contains 2 types of images:\n",
    "- River images(e.g. TRA_RI_1000000.png)\n",
    "- Road images(e.g. TRA_RO_1000000.png)\n",
    "\n",
    "so we need to create 2 folders:\n",
    "- River (contains `trainA` and `trainB` subfolders, each contains river images)\n",
    "- Road (contains `trainA` and `trainB` subfolders, each contains road images)"
   ]
  },
  {
   "cell_type": "code",
   "execution_count": null,
   "metadata": {},
   "outputs": [],
   "source": [
    "train_dir = 'training_dataset'\n",
    "train_river_dir = 'train_RIVER'\n",
    "train_road_dir = 'train_ROAD'\n",
    "\n",
    "# create the folders\n",
    "if not os.path.exists(train_river_dir):\n",
    "\tos.makedirs(train_river_dir)\n",
    "if not os.path.exists(train_road_dir):\n",
    "\tos.makedirs(train_road_dir)\n",
    "\n",
    "for subdir in os.listdir(train_dir):\n",
    "\t# create the subfolders if not exist\n",
    "\tif not os.path.exists(train_river_dir + '/' + subdir):\n",
    "\t\tos.makedirs(train_river_dir + '/' + subdir)\n",
    "\tif not os.path.exists(train_road_dir + '/' + subdir):\n",
    "\t\tos.makedirs(train_road_dir + '/' + subdir)\n",
    "\t\n",
    "\t# move or copy the files\n",
    "\tfor file in os.listdir(train_dir + '/' + subdir):\n",
    "\t\tif '_RI_' in file:\n",
    "\t\t\tshutil.copy(train_dir + '/' + subdir + '/' + file, train_river_dir + '/' + subdir + '/' + file)\n",
    "\t\telif '_RO_' in file:\n",
    "\t\t\tshutil.copy(train_dir + '/' + subdir + '/' + file, train_road_dir + '/' + subdir + '/' + file)\n",
    "\t\telse:\n",
    "\t\t\tprint('ERROR: file name not recognized: ' + file)"
   ]
  },
  {
   "cell_type": "markdown",
   "metadata": {},
   "source": [
    "## Extract the Images from Raw Testing Data\n",
    "`testing_dataset/testA` subfolder contains 2 types of images:\n",
    "- River images(e.g. PUB_RI_1000000.png or PRI_RI_1000000.png)\n",
    "- Road images(e.g. PUB_RO_1000459.png or PRI_RO_1000459.png)\n",
    "\n",
    "so we need to create 2 folders:\n",
    "- test_RIVER (contains `testA` subfolders, only contains river images)\n",
    "- test_ROAD (contains `testA` subfolders, only contains road images)"
   ]
  },
  {
   "cell_type": "code",
   "execution_count": null,
   "metadata": {},
   "outputs": [],
   "source": [
    "import os\n",
    "import shutil\n",
    "\n",
    "test_dir = 'testing_dataset'\n",
    "test_river_dir = 'test_RIVER'\n",
    "test_road_dir = 'test_ROAD'\n",
    "\n",
    "# create the folders\n",
    "if not os.path.exists(test_river_dir):\n",
    "\tos.makedirs(test_river_dir)\n",
    "if not os.path.exists(test_road_dir):\n",
    "\tos.makedirs(test_road_dir)\n",
    " \n",
    "\n",
    "for subdir in os.listdir(test_dir):\n",
    "\t# create the subfolders if not exist\n",
    "\tif not os.path.exists(test_river_dir + '/' + subdir):\n",
    "\t\tos.makedirs(test_river_dir + '/' + subdir)\n",
    "\tif not os.path.exists(test_road_dir + '/' + subdir):\n",
    "\t\tos.makedirs(test_road_dir + '/' + subdir)\n",
    "\t\n",
    "\t# move or copy the files\n",
    "\tfor file in os.listdir(test_dir + '/' + subdir):\n",
    "\t\tif '_RI_' in file:\n",
    "\t\t\tshutil.copy(test_dir + '/' + subdir + '/' + file, test_river_dir + '/' + subdir + '/' + file)\n",
    "\t\telif '_RO_' in file:\n",
    "\t\t\tshutil.copy(test_dir + '/' + subdir + '/' + file, test_road_dir + '/' + subdir + '/' + file)\n",
    "\t\telse:\n",
    "\t\t\tprint('ERROR: file name not recognized: ' + file)"
   ]
  },
  {
   "cell_type": "markdown",
   "metadata": {},
   "source": [
    "After finishing the above steps, we will have the following folder structure:\n",
    "```\n",
    "dataset\n",
    "├── test_ROAD\n",
    "│   └── testA\n",
    "├── test_RIVER\n",
    "│   └── testA\n",
    "├── train_ROAD\n",
    "│   ├── trainA\n",
    "│   └── trainB\n",
    "└── train_RIVER\n",
    "    ├── trainA\n",
    "    └── trainB\n",
    "```"
   ]
  },
  {
   "cell_type": "markdown",
   "metadata": {},
   "source": [
    "# 5. Copy the data to the model directory"
   ]
  },
  {
   "cell_type": "markdown",
   "metadata": {},
   "source": [
    "## Copy the training data to the model input folder\n",
    "\n",
    "move the `train_RIVER` and `train_ROAD` folders to `../pytorch-CycleGAN-and-pix2pix/datasets`"
   ]
  },
  {
   "cell_type": "code",
   "execution_count": null,
   "metadata": {},
   "outputs": [],
   "source": [
    "# copy the folder to target folder\n",
    "target_dir = '../pytorch-CycleGAN-and-pix2pix/datasets'\n",
    "shutil.copytree(train_river_dir, target_dir + '/' + train_river_dir)\n",
    "shutil.copytree(train_road_dir, target_dir + '/' + train_road_dir)"
   ]
  },
  {
   "cell_type": "markdown",
   "metadata": {},
   "source": [
    "## Copy the testing data to the model input folder\n",
    "\n",
    "copy the `test_RIVER` and `test_ROAD` folders to `../pytorch-CycleGAN-and-pix2pix/datasets`"
   ]
  },
  {
   "cell_type": "code",
   "execution_count": null,
   "metadata": {},
   "outputs": [],
   "source": [
    "# copy the folder to target folder\n",
    "target_dir = '../pytorch-CycleGAN-and-pix2pix/datasets'\n",
    "shutil.copytree(test_river_dir, target_dir + '/' + test_river_dir)\n",
    "shutil.copytree(test_road_dir, target_dir + '/' + test_road_dir)"
   ]
  },
  {
   "cell_type": "markdown",
   "metadata": {},
   "source": [
    "## Align the pair images for train_ROAD and train_RIVER"
   ]
  },
  {
   "cell_type": "code",
   "execution_count": null,
   "metadata": {},
   "outputs": [],
   "source": [
    "os.chdir('../pytorch-CycleGAN-and-pix2pix/datasets')"
   ]
  },
  {
   "cell_type": "code",
   "execution_count": null,
   "metadata": {},
   "outputs": [],
   "source": [
    "!pwd"
   ]
  },
  {
   "cell_type": "code",
   "execution_count": null,
   "metadata": {},
   "outputs": [],
   "source": [
    "print('Creating aligned dataset for train_ROAD...')\n",
    "!python make_dataset_aligned.py --dataset-path train_ROAD\n",
    "\n",
    "print('Creating aligned dataset for train_RIVER...')\n",
    "!python make_dataset_aligned.py --dataset-path train_RIVER"
   ]
  },
  {
   "cell_type": "markdown",
   "metadata": {},
   "source": [
    "After finishing the above steps, we will have the following folder structure in `pytorch-CycleGAN-and-pix2pix/datasets`:\n",
    "```\n",
    "datasets\n",
    "├── test_ROAD\n",
    "│   └── testA\n",
    "├── test_RIVER\n",
    "│   └── testA\n",
    "├── train_ROAD\n",
    "│   ├── train\n",
    "│   ├── trainA\n",
    "│   └── trainB\n",
    "└── train_RIVER\n",
    "    ├── train\n",
    "    ├── trainA\n",
    "    └── trainB\n",
    "```"
   ]
  }
 ],
 "metadata": {
  "kernelspec": {
   "display_name": "genai",
   "language": "python",
   "name": "python3"
  },
  "language_info": {
   "codemirror_mode": {
    "name": "ipython",
    "version": 3
   },
   "file_extension": ".py",
   "mimetype": "text/x-python",
   "name": "python",
   "nbconvert_exporter": "python",
   "pygments_lexer": "ipython3",
   "version": "3.10.14"
  }
 },
 "nbformat": 4,
 "nbformat_minor": 2
}
